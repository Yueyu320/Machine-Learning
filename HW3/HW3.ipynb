{
 "cells": [
  {
   "cell_type": "code",
   "execution_count": 11,
   "id": "d217e070-6237-41cd-9394-a689ff5401a1",
   "metadata": {},
   "outputs": [],
   "source": [
    "import numpy as np\n",
    "import pandas as pd\n",
    "import statsmodels.api as sm\n",
    "import sklearn\n",
    "from sklearn.metrics import mean_absolute_error\n",
    "from sklearn.metrics import mean_squared_error\n",
    "from sklearn.model_selection import KFold\n",
    "from sklearn.linear_model import LinearRegression"
   ]
  },
  {
   "cell_type": "code",
   "execution_count": null,
   "id": "f3fc5692-acd5-490e-ad3f-d5c8f10f68e5",
   "metadata": {},
   "outputs": [],
   "source": [
    "def blackbox(algo, X, Y, method = \"Dropout\", M = 100, K = 5, criteria = \"MSE\"):\n",
    "    \n",
    "    phi_list = np.arange(0, 1, 0.1)\n",
    "    cv_error = []\n",
    "    \n",
    "    for phi in phi_list:\n",
    "        kf = KFold(n_splits = K, shuffle=True)\n",
    "        error = []\n",
    "        for train_index, test_index in kf.split(X):\n",
    "            X_train, X_test = X[train_index], X[test_index]\n",
    "            Y_train, Y_test = Y[train_index], Y[test_index]\n",
    "            \n",
    "            X_new_ori = np.repeat(X_train, M, axis=0)\n",
    "            Y_new = np.repeat(Y_train, M, axis=0)\n",
    "\n",
    "            z = np.random.binomial(1, phi, size=X_new_ori.shape)\n",
    "            X_new = X_new_ori*z/(1-phi)\n",
    "            X_new = (X_new - np.mean(X_new, axis=0))/np.std(X_new, axis=0)\n",
    "\n",
    "            reg = algo(X_new, Y_new)\n",
    "            pred = reg.predict(X_test)\n",
    "\n",
    "            if criteria == \"MSE\":\n",
    "                error.append(mean_squared_error(Y_test, pred))\n",
    "            elif criteria == \"MAD\":\n",
    "                error.append(mean_absolute_error(Y_test, pred))\n",
    "            else:\n",
    "                raise ValueError('Please input either MSE or MAD!')\n",
    "        \n",
    "        cv_error.append(np.mean(error))\n",
    "        \n",
    "    phi_opt = phi_list[np.argmin(cv_error)]\n",
    "    \n",
    "\n",
    "    \n",
    "    \n",
    "    \n",
    "               \n",
    "\n",
    "    \n",
    "    "
   ]
  },
  {
   "cell_type": "code",
   "execution_count": 15,
   "id": "66ed78d1-bda2-48c3-8207-f2e67e948179",
   "metadata": {},
   "outputs": [],
   "source": [
    "def dropout(algo, X, Y, M = 100, K = 5, criteria = \"MSE\"):\n",
    "    \n",
    "    phi_list = np.arange(0, 1, 0.1)\n",
    "    cv_error = []\n",
    "    \n",
    "    for phi in phi_list:\n",
    "        kf = KFold(n_splits = K, shuffle=True)\n",
    "        error = []\n",
    "        for train_index, test_index in kf.split(X):\n",
    "            X_train, X_test = X[train_index], X[test_index]\n",
    "            Y_train, Y_test = Y[train_index], Y[test_index]\n",
    "            \n",
    "            X_new_ori = np.repeat(X_train, M, axis=0)\n",
    "            Y_new = np.repeat(Y_train, M, axis=0)\n",
    "\n",
    "            z = np.random.binomial(1, phi, size=X_new_ori.shape)\n",
    "            X_new = X_new_ori*z/(1-phi)\n",
    "            #X_new = (X_new - np.mean(X_new, axis=0))/np.std(X_new, axis=0)\n",
    "\n",
    "            reg = algo(X_new, Y_new)\n",
    "            pred = reg.predict(X_test)\n",
    "\n",
    "            if criteria == \"MSE\":\n",
    "                error.append(mean_squared_error(Y_test, pred))\n",
    "            elif criteria == \"MAD\":\n",
    "                error.append(mean_absolute_error(Y_test, pred))\n",
    "            else:\n",
    "                raise ValueError('Please input either MSE or MAD!')\n",
    "        \n",
    "        cv_error.append(np.mean(error))\n",
    "        \n",
    "    phi_opt = phi_list[np.argmin(cv_error)]\n",
    "    \n",
    "    X_new_ori = np.repeat(X, M, axis=0)\n",
    "    Y_new = np.repeat(Y, M, axis=0)\n",
    "\n",
    "    z = np.random.binomial(1, phi_opt, size=X_new_ori.shape)\n",
    "    X_new = X_new_ori*z/(1-phi_opt)\n",
    "    #X_new = (X_new - np.mean(X_new, axis=0))/np.std(X_new, axis=0)\n",
    "\n",
    "    reg = algo(X_new, Y_new)\n",
    "    \n",
    "    return reg"
   ]
  },
  {
   "cell_type": "code",
   "execution_count": 33,
   "id": "ec057a9e-f80e-4748-a9bd-149604533aa8",
   "metadata": {},
   "outputs": [],
   "source": [
    "def noiseAddition_M(algo, X, Y, M = 100, K = 5, criteria = \"MSE\"):\n",
    "    lambda_list = np.arange(0, 1, 0.1)\n",
    "    cv_error = []\n",
    "    \n",
    "    for l in lambda_list:\n",
    "        kf = KFold(n_splits = K, shuffle=True)\n",
    "        error = []\n",
    "        for train_index, test_index in kf.split(X):\n",
    "            X_train, X_test = X[train_index], X[test_index]\n",
    "            Y_train, Y_test = Y[train_index], Y[test_index]\n",
    "            \n",
    "            X_new_ori = np.repeat(X_train, M, axis=0)\n",
    "            Y_new = np.repeat(Y_train, M, axis=0)\n",
    "\n",
    "            z = np.random.normal(0, l, size=X_new_ori.shape)\n",
    "            X_new = X_new_ori + z\n",
    "            #X_new = (X_new - np.mean(X_new, axis=0))/np.std(X_new, axis=0)\n",
    "\n",
    "            reg = algo(X_new, Y_new)\n",
    "            pred = reg.predict(X_test)\n",
    "\n",
    "            if criteria == \"MSE\":\n",
    "                error.append(mean_squared_error(Y_test, pred))\n",
    "            elif criteria == \"MAD\":\n",
    "                error.append(mean_absolute_error(Y_test, pred))\n",
    "            else:\n",
    "                raise ValueError('Please input either MSE or MAD!')\n",
    "        \n",
    "        cv_error.append(np.mean(error))\n",
    "        \n",
    "    l_opt = lambda_list[np.argmin(cv_error)]\n",
    "    \n",
    "    X_new_ori = np.repeat(X, M, axis=0)\n",
    "    Y_new = np.repeat(Y, M, axis=0)\n",
    "\n",
    "    z = np.random.normal(0, l_opt, size=X_new_ori.shape)\n",
    "    X_new = X_new_ori + z\n",
    "    #X_new = (X_new - np.mean(X_new, axis=0))/np.std(X_new, axis=0)\n",
    "\n",
    "    reg = algo(X_new, Y_new)\n",
    "    \n",
    "    return reg"
   ]
  },
  {
   "cell_type": "code",
   "execution_count": 24,
   "id": "52dd7a46-cb76-440a-9010-042143923935",
   "metadata": {},
   "outputs": [],
   "source": [
    "def noiseAddition(algo, X, Y, M = 100, K = 5, criteria = \"MSE\"):\n",
    "    lambda_list = np.arange(0, 1, 0.1)\n",
    "    cv_error = []\n",
    "    \n",
    "    for l in lambda_list:\n",
    "        kf = KFold(n_splits = K, shuffle=True)\n",
    "        error = []\n",
    "        for train_index, test_index in kf.split(X):\n",
    "            X_train, X_test = X[train_index], X[test_index]\n",
    "            Y_train, Y_test = Y[train_index], Y[test_index]\n",
    "    \n",
    "            z = np.random.normal(0, l, size=X_train.shape)\n",
    "            X_new = X_train + z\n",
    "            #X_new = (X_new - np.mean(X_new, axis=0))/np.std(X_new, axis=0)\n",
    "\n",
    "            reg = algo(X_new, Y_train)\n",
    "            pred = reg.predict(X_test)\n",
    "\n",
    "            if criteria == \"MSE\":\n",
    "                error.append(mean_squared_error(Y_test, pred))\n",
    "            elif criteria == \"MAD\":\n",
    "                error.append(mean_absolute_error(Y_test, pred))\n",
    "            else:\n",
    "                raise ValueError('Please input either MSE or MAD!')\n",
    "        \n",
    "        cv_error.append(np.mean(error))\n",
    "        \n",
    "    l_opt = lambda_list[np.argmin(cv_error)]\n",
    "    \n",
    "    z = np.random.normal(0, l_opt, size=X.shape)\n",
    "    #X_new = (X_new - np.mean(X_new, axis=0))/np.std(X_new, axis=0)\n",
    "\n",
    "    reg = algo(X+z, Y)\n",
    "    \n",
    "    return reg"
   ]
  },
  {
   "cell_type": "code",
   "execution_count": null,
   "id": "14c38da9-7c51-4ff3-85ee-bbb35c8e9db3",
   "metadata": {},
   "outputs": [],
   "source": [
    "def robust(algo, X, Y, M = 100, K = 5, criteria = \"MSE\"):\n",
    "    "
   ]
  },
  {
   "cell_type": "code",
   "execution_count": 4,
   "id": "70b32e66-32d5-48e0-a130-23d75ad828b0",
   "metadata": {},
   "outputs": [],
   "source": [
    "data = pd.read_table('dataset.dat', sep='\\s+')"
   ]
  },
  {
   "cell_type": "code",
   "execution_count": 7,
   "id": "0178a1e0-6c6c-4087-8583-072f8954ce3a",
   "metadata": {},
   "outputs": [],
   "source": [
    "def algorithm(X, Y):\n",
    "    return LinearRegression().fit(X, Y)"
   ]
  },
  {
   "cell_type": "code",
   "execution_count": 18,
   "id": "c92da1ab-00f3-4a63-8559-14c39db8cd9a",
   "metadata": {},
   "outputs": [],
   "source": [
    "X = data.values[:,:8]\n",
    "Y = data['lpsa'].values\n",
    "\n",
    "md = dropout(algorithm, X, Y, K = 10)"
   ]
  },
  {
   "cell_type": "code",
   "execution_count": 34,
   "id": "fff0d02a-c373-400a-ab7a-9a8ade9c8109",
   "metadata": {},
   "outputs": [],
   "source": [
    "m2 = noiseAddition(algorithm, X, Y, K = 10)"
   ]
  },
  {
   "cell_type": "code",
   "execution_count": 35,
   "id": "dd4931cc-331e-4c57-808c-7dbd93ebd2a9",
   "metadata": {},
   "outputs": [
    {
     "data": {
      "text/plain": [
       "0.5055967528295335"
      ]
     },
     "execution_count": 35,
     "metadata": {},
     "output_type": "execute_result"
    }
   ],
   "source": [
    "mean_absolute_error(Y, m2.predict(X))"
   ]
  },
  {
   "cell_type": "code",
   "execution_count": null,
   "id": "60fae1d0-ee81-472e-b77e-559fa499a45a",
   "metadata": {},
   "outputs": [],
   "source": []
  }
 ],
 "metadata": {
  "kernelspec": {
   "display_name": "Python 3 (ipykernel)",
   "language": "python",
   "name": "python3"
  },
  "language_info": {
   "codemirror_mode": {
    "name": "ipython",
    "version": 3
   },
   "file_extension": ".py",
   "mimetype": "text/x-python",
   "name": "python",
   "nbconvert_exporter": "python",
   "pygments_lexer": "ipython3",
   "version": "3.10.2"
  }
 },
 "nbformat": 4,
 "nbformat_minor": 5
}
