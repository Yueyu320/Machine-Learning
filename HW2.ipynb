{
 "cells": [
  {
   "cell_type": "code",
   "execution_count": 2,
   "id": "eabf09c7-1c60-4238-b2d6-80f3ccb0f229",
   "metadata": {},
   "outputs": [],
   "source": [
    "import numpy as np\n",
    "import random"
   ]
  },
  {
   "cell_type": "code",
   "execution_count": 22,
   "id": "72c2b92f-2c7c-4768-bab8-fea3bbc77ef3",
   "metadata": {},
   "outputs": [],
   "source": [
    "#Sparse signal \n",
    "n = 100\n",
    "p = [10, 25, 50]\n",
    "rho = [0, 0.25, 0.5]\n",
    "beta_1 = np.array([(2/np.sqrt(n)) if j <= np.sqrt(p[0]) else 0 for j in range(1, p[0] + 1)]).re"
   ]
  },
  {
   "cell_type": "code",
   "execution_count": 5,
   "id": "622a4f44-b896-4be2-87b8-3bff4c2767b1",
   "metadata": {},
   "outputs": [
    {
     "data": {
      "text/plain": [
       "True"
      ]
     },
     "execution_count": 5,
     "metadata": {},
     "output_type": "execute_result"
    }
   ],
   "source": [
    "j = 3\n",
    "j <= 3"
   ]
  },
  {
   "cell_type": "code",
   "execution_count": 23,
   "id": "cc561f99-3459-431a-8d6b-74815c5052ec",
   "metadata": {},
   "outputs": [
    {
     "name": "stdout",
     "output_type": "stream",
     "text": [
      "[0.2 0.2 0.2 0.  0.  0.  0.  0.  0.  0. ]\n"
     ]
    }
   ],
   "source": [
    "print(beta_1)"
   ]
  },
  {
   "cell_type": "code",
   "execution_count": null,
   "id": "ac578c07-c2cd-47cd-ac24-e28ef0fd27e3",
   "metadata": {},
   "outputs": [],
   "source": []
  }
 ],
 "metadata": {
  "kernelspec": {
   "display_name": "Python 3 (ipykernel)",
   "language": "python",
   "name": "python3"
  },
  "language_info": {
   "codemirror_mode": {
    "name": "ipython",
    "version": 3
   },
   "file_extension": ".py",
   "mimetype": "text/x-python",
   "name": "python",
   "nbconvert_exporter": "python",
   "pygments_lexer": "ipython3",
   "version": "3.10.2"
  }
 },
 "nbformat": 4,
 "nbformat_minor": 5
}
