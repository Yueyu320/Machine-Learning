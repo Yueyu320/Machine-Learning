{
 "cells": [
  {
   "cell_type": "code",
   "execution_count": 1,
   "id": "eabf09c7-1c60-4238-b2d6-80f3ccb0f229",
   "metadata": {},
   "outputs": [],
   "source": [
    "import numpy as np\n",
    "import random"
   ]
  },
  {
   "cell_type": "code",
   "execution_count": 11,
   "id": "72c2b92f-2c7c-4768-bab8-fea3bbc77ef3",
   "metadata": {},
   "outputs": [],
   "source": [
    "# Sparse signal \n",
    "n, ps, rhos = 100, [10, 25, 50], [0, 0.25, 0.5]"
   ]
  },
  {
   "cell_type": "code",
   "execution_count": 17,
   "id": "ac578c07-c2cd-47cd-ac24-e28ef0fd27e3",
   "metadata": {},
   "outputs": [],
   "source": [
    "def generate_data(n, p, rho, signal='sparse'):\n",
    "    if signal == 'sparse':\n",
    "        beta = np.array([[2/np.sqrt(n) * (j < np.sqrt(p)) for j in range(1,p+1,1)]]).T\n",
    "    elif signal == 'dense':\n",
    "        beta = np.array([[5/(j*np.sqrt(n)) for j in range(1,p+1,1)]]).T\n",
    "    else:\n",
    "        return\n",
    "    R2 = 0.8\n",
    "    sigma_rho = np.reshape([rho**(np.abs(i-j)) for i in range(1,p+1,1) for j in range(1,p+1,1)], (-1, p))\n",
    "    sigma2 = ((1-R2)/R2 * (beta.T) @ sigma_rho @ beta)[0][0]\n",
    "    sigma = np.sqrt(sigma2)\n",
    "    epsilon = np.random.normal(0, sigma, n).reshape(n,1)\n",
    "    X = np.random.multivariate_normal(np.zeros(p), sigma_rho, n)\n",
    "    Y = X @ beta + epsilon\n",
    "    return X, Y"
   ]
  },
  {
   "cell_type": "code",
   "execution_count": null,
   "id": "b9e39e0a-8c26-449f-a5e9-0b320b0a91bf",
   "metadata": {},
   "outputs": [],
   "source": [
    "def generate_data_dense(n, p, rho):\n",
    "    beta = np.array([[2/np.sqrt(n) * (j < np.sqrt(p)) for j in range(p)]]).T\n",
    "    R2 = 0.8\n",
    "    sigma_rho = np.reshape([rho**(np.abs(i-j)) for i in range(p) for j in range(p)], (-1, p))\n",
    "    sigma2 = ((1-R2)/R2 * (beta.T) @ sigma_rho @ beta)[0][0]\n",
    "    sigma = np.sqrt(sigma2)\n",
    "    epsilon = np.random.normal(0, sigma, n).reshape(n,1)\n",
    "    X = np.random.multivariate_normal(np.zeros(p), sigma_rho, n)\n",
    "    Y = X @ beta + epsilon\n",
    "    return X, Y"
   ]
  },
  {
   "cell_type": "code",
   "execution_count": 19,
   "id": "67f1aa72-7eeb-4a95-9576-27525c92619f",
   "metadata": {},
   "outputs": [
    {
     "data": {
      "text/plain": [
       "((100, 10), (100, 1))"
      ]
     },
     "execution_count": 19,
     "metadata": {},
     "output_type": "execute_result"
    }
   ],
   "source": [
    "X, Y = generate_data(100, 10, 0, 'sparse')\n",
    "X.shape, Y.shape"
   ]
  },
  {
   "cell_type": "code",
   "execution_count": null,
   "id": "62b3293e-de9e-4e2f-9161-c2761ffddddf",
   "metadata": {},
   "outputs": [],
   "source": []
  }
 ],
 "metadata": {
  "kernelspec": {
   "display_name": "Python 3 (ipykernel)",
   "language": "python",
   "name": "python3"
  },
  "language_info": {
   "codemirror_mode": {
    "name": "ipython",
    "version": 3
   },
   "file_extension": ".py",
   "mimetype": "text/x-python",
   "name": "python",
   "nbconvert_exporter": "python",
   "pygments_lexer": "ipython3",
   "version": "3.9.5"
  }
 },
 "nbformat": 4,
 "nbformat_minor": 5
}
