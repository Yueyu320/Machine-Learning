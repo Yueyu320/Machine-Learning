{
 "cells": [
  {
   "cell_type": "markdown",
   "id": "d37d388a-0faf-4a28-a382-3c3de81844b6",
   "metadata": {},
   "source": [
    "# Task 2"
   ]
  },
  {
   "cell_type": "markdown",
   "id": "e8298c78-81ba-4cd1-b542-40d6cfa0ca71",
   "metadata": {},
   "source": [
    "## a)"
   ]
  },
  {
   "cell_type": "markdown",
   "id": "fde53872-1d3d-4332-8fb3-08e2a5e83866",
   "metadata": {},
   "source": [
    "$\\begin{aligned} Var(Y) &= Var(X^{\\top}\\beta^* + \\epsilon)\\\\ &= Var(X^{\\top}\\beta^*) +Var(\\epsilon)\\\\ &= \\beta^{*^{\\top}}\\Sigma(\\rho)\\beta^*+\\sigma^2\\\\ P(Y-X^{\\top}\\beta^*) &=  P(\\epsilon)^2\\\\ &= \\sigma^2\\\\ 1-\\frac{\\sigma^2}{\\beta^{*^{\\top}}\\Sigma(\\rho)\\beta^*+\\sigma^2} &= r\\\\ 1-r &= \\frac{\\sigma^2}{\\beta^{*^{\\top}}\\Sigma(\\rho)\\beta^*+\\sigma^2}\\\\ \\Rightarrow \\sigma^2 &= \\frac{\\beta^{*^{\\top}}\\Sigma(\\rho)\\beta^*}{r}-\\beta^{*^{\\top}}\\Sigma(\\rho)\\beta^*\\\\ &=\\frac{1-r}{r}\\beta^{*^{\\top}}\\Sigma(\\rho)\\beta^*\\\\ QED\\end{aligned}$"
   ]
  },
  {
   "cell_type": "markdown",
   "id": "6783b57a-dcda-45ab-b1f6-0513417d856a",
   "metadata": {},
   "source": []
  },
  {
   "cell_type": "code",
   "execution_count": null,
   "id": "94c16399-f0eb-408d-9a51-1332d788aef0",
   "metadata": {},
   "outputs": [],
   "source": []
  }
 ],
 "metadata": {
  "kernelspec": {
   "display_name": "Python 3 (ipykernel)",
   "language": "python",
   "name": "python3"
  },
  "language_info": {
   "codemirror_mode": {
    "name": "ipython",
    "version": 3
   },
   "file_extension": ".py",
   "mimetype": "text/x-python",
   "name": "python",
   "nbconvert_exporter": "python",
   "pygments_lexer": "ipython3",
   "version": "3.10.2"
  }
 },
 "nbformat": 4,
 "nbformat_minor": 5
}
