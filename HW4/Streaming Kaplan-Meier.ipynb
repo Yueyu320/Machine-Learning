{
 "cells": [
  {
   "cell_type": "markdown",
   "id": "78c926eb-b826-4f98-b4c3-1cd2b8bd8577",
   "metadata": {},
   "source": [
    "## 1. Streaming Kaplan-Meier\n",
    "\n",
    "When data is streaming, it is being updated all the time, which affects Kaplan-Meier estimator. Previously, we could use new data to update model/estimation (trained/estimated by old data) through updating some finite parameters, but now we need to update a function. And the challenge is the streaming data specifically for Kaplan-Meier estimator has orders (time) and we couldn't directly use it to update the function, instead first we need to identify an appropriate position for the new data (specifically for the `t`), then update $(t_j, d_j, n_j)_{j=1}^n$ using new data $\\{(T_i, \\delta_i)\\}_{i=1}^n$, and finally we could update Kaplan-Meier estimator using the formula $\\hat S(t) = \\prod_{l: t_l \\leqq t} (1 - \\frac{d_l}{n_l})$ because it's a one-to-one mapping between the estimator and $(t_j, d_j, n_j)_{j=1}^n$."
   ]
  },
  {
   "cell_type": "code",
   "execution_count": 1,
   "id": "cc6c1dea-81a7-4b3a-92dc-2b0a0888291e",
   "metadata": {},
   "outputs": [],
   "source": [
    "import numpy as np\n",
    "import matplotlib.pyplot as plt\n",
    "import bisect "
   ]
  },
  {
   "cell_type": "code",
   "execution_count": 2,
   "id": "b2a92c01-2266-4499-9cb3-83892e34a416",
   "metadata": {},
   "outputs": [],
   "source": [
    "def update_list(T_list , delta_list, t_list = [], d_list = [], n_list = []):\n",
    "    '''\n",
    "    The function updates the lists used by Kaplan-Meier estimator using new data(T, delta)\n",
    "    \n",
    "    @Parameters:\n",
    "    T_list: new data for the censoring or failure time \n",
    "    delta_list: censoring indicator (delta=0 if failure)\n",
    "    t_list: exsisting observed time list \n",
    "    d_list: number of failures at each t in t_list\n",
    "    n_list: number at risk at each t in t_list (the number of survivals right before time t)\n",
    "    \n",
    "    @Returns:\n",
    "    t_list, d_list, n_list: updated corresponding lists\n",
    "    '''\n",
    "    \n",
    "    for t, delta in zip(T_list, delta_list):\n",
    "        # if new t is already in the old data \n",
    "        if t in t_list:\n",
    "            # find the index for this new t\n",
    "            index = t_list.index(t)\n",
    "            # if the new observation is dead, then add 1 to the specific time (d_list)\n",
    "            d_list[index] += int(delta == 0)\n",
    "            # add 1 survival to all ns before(and include) the index \n",
    "            n_list[:(index + 1)] = [n + 1 for n in n_list[:(index + 1)]] \n",
    "            # if the new observation is alive, then add 1 to all ns after the index+1, otherwise add 0\n",
    "            n_list[(index + 1): ] = [n + int(delta == 1) for n in n_list[(index + 1): ]]\n",
    "        # if new t does not exsist in the old data\n",
    "        else:\n",
    "            # insert new t into t_list and sort the time to have the ascending order \n",
    "            bisect.insort(t_list, t)\n",
    "            # find the index for this new t\n",
    "            index = t_list.index(t)\n",
    "            # insert 1 if the new observation is dead \n",
    "            d_list.insert(index, int(delta == 0))\n",
    "            # add 1 survival to all ns before(not include) the index \n",
    "            n_list[:index] = [n + 1 for n in n_list[:index]]\n",
    "            # if the new observation is alive, then add 1 to all ns after the index, otherwise add 0\n",
    "            n_list[index:] = [n + int(delta == 1) for n in n_list[index:]]\n",
    "            # insert the number of survivals for the index into n_list if the index>1 \n",
    "            # using the difference between ns and ds (the number of survivals and the number of death)\n",
    "            # otherwise 0\n",
    "            n_list.insert(index, n_list[index - 1] - d_list[index - 1] if index > 0 else 1)\n",
    "            \n",
    "    return t_list, d_list, n_list\n",
    "\n",
    "def KM(t_list, d_list, n_list):\n",
    "    '''\n",
    "    The function calculates for the Kaplan-Meier estimator\n",
    "    \n",
    "    @Parameters:\n",
    "    t_list: exsisting observed time list \n",
    "    d_list: number of failures at each t in t_list\n",
    "    n_list: number at risk at each t in t_list (the number of survivals right before time t)\n",
    "    \n",
    "    @Returns:\n",
    "    KM_estimator: Kaplan-Meier estimator (a function of t)\n",
    "    '''\n",
    "    \n",
    "    # using the formula for KM estimator \n",
    "    KM_estimator = lambda t: np.prod([1 - dj / nj for tj, dj, nj in zip(t_list, d_list, n_list) if tj <= t])\n",
    "       \n",
    "    return KM_estimator"
   ]
  },
  {
   "cell_type": "markdown",
   "id": "355383c0-2330-4f74-b87e-c6d853288708",
   "metadata": {},
   "source": [
    "## Example: "
   ]
  },
  {
   "cell_type": "markdown",
   "id": "5c4c5100-05f6-4bc1-b439-562c3812f917",
   "metadata": {},
   "source": [
    "First we create two sets of data, one indicating the old data, the other one is the new data, and then we will use the new data to update Kaplan-Meier estimator and show the plot to verify our function."
   ]
  },
  {
   "cell_type": "code",
   "execution_count": 3,
   "id": "69d2bbb1-beb9-4d21-9d23-f58cd6c3fd7b",
   "metadata": {},
   "outputs": [
    {
     "name": "stdout",
     "output_type": "stream",
     "text": [
      "[0, 1, 2, 3, 4, 5, 6, 7, 8, 9, 10, 11, 12, 13, 14, 15, 16, 17, 18, 19, 20, 21, 22, 23, 24, 25, 26, 27, 28, 29]\n",
      "[1, 0, 1, 1, 1, 1, 1, 0, 0, 1, 0, 0, 1, 0, 1, 0, 1, 0, 0, 1, 1, 1, 0, 0, 0, 1, 0, 1, 1, 1]\n",
      "[30, 29, 29, 28, 27, 26, 25, 24, 24, 24, 23, 23, 23, 22, 22, 21, 21, 20, 20, 20, 19, 18, 17, 17, 17, 17, 16, 16, 15, 14]\n"
     ]
    }
   ],
   "source": [
    "np.random.seed(seed=123)\n",
    "# first set of data\n",
    "T_list = np.arange(0, 30, 1)\n",
    "delta_list = np.random.randint(0, 2, 30)\n",
    "t_list1, d_list1, n_list1 = update_list(T_list, delta_list)\n",
    "print(t_list1)\n",
    "print(d_list1)\n",
    "print(n_list1)"
   ]
  },
  {
   "cell_type": "code",
   "execution_count": 4,
   "id": "f8505436-481c-48ce-b847-8de271364836",
   "metadata": {},
   "outputs": [
    {
     "name": "stdout",
     "output_type": "stream",
     "text": [
      "[0, 0.5, 1, 1.5, 2, 2.5, 3, 3.5, 4, 4.5, 5, 5.5, 6, 6.5, 7, 7.5, 8, 8.5, 9, 9.5, 10, 10.5, 11, 11.5, 12, 12.5, 13, 13.5, 14, 14.5, 15, 15.5, 16, 16.5, 17, 17.5, 18, 18.5, 19, 19.5, 20, 20.5, 21, 21.5, 22, 22.5, 23, 23.5, 24, 24.5, 25, 25.5, 26, 26.5, 27, 27.5, 28, 28.5, 29, 29.5]\n",
      "[2, 0, 0, 0, 2, 1, 1, 1, 2, 0, 2, 0, 2, 0, 0, 0, 1, 1, 2, 1, 0, 0, 1, 1, 1, 1, 0, 1, 2, 0, 1, 0, 2, 0, 1, 1, 1, 1, 1, 1, 2, 0, 1, 0, 0, 1, 1, 1, 1, 0, 1, 1, 1, 1, 2, 0, 2, 0, 1, 1]\n",
      "[90, 88, 88, 88, 88, 86, 85, 84, 83, 81, 81, 79, 79, 77, 77, 77, 77, 76, 75, 73, 72, 72, 72, 71, 70, 69, 68, 68, 67, 65, 65, 64, 64, 62, 62, 61, 60, 59, 58, 57, 56, 54, 54, 53, 53, 53, 52, 51, 50, 49, 49, 48, 47, 46, 45, 43, 43, 41, 41, 40]\n"
     ]
    }
   ],
   "source": [
    "# second set of data\n",
    "T_new = np.arange(0, 30, 0.5)\n",
    "delta_new = np.random.randint(0, 2, 60)\n",
    "t_list2, d_list2, n_list2 = update_list(T_new, delta_new, t_list1, d_list1, n_list1)\n",
    "# updated lists\n",
    "print(t_list2)\n",
    "print(d_list2)\n",
    "print(n_list2)"
   ]
  },
  {
   "cell_type": "code",
   "execution_count": 6,
   "id": "c941a7c1-1c95-475d-a321-da3cfebe2cae",
   "metadata": {},
   "outputs": [
    {
     "data": {
      "text/plain": [
       "[0,\n",
       " 0.5,\n",
       " 1,\n",
       " 1.5,\n",
       " 2,\n",
       " 2.5,\n",
       " 3,\n",
       " 3.5,\n",
       " 4,\n",
       " 4.5,\n",
       " 5,\n",
       " 5.5,\n",
       " 6,\n",
       " 6.5,\n",
       " 7,\n",
       " 7.5,\n",
       " 8,\n",
       " 8.5,\n",
       " 9,\n",
       " 9.5,\n",
       " 10,\n",
       " 10.5,\n",
       " 11,\n",
       " 11.5,\n",
       " 12,\n",
       " 12.5,\n",
       " 13,\n",
       " 13.5,\n",
       " 14,\n",
       " 14.5,\n",
       " 15,\n",
       " 15.5,\n",
       " 16,\n",
       " 16.5,\n",
       " 17,\n",
       " 17.5,\n",
       " 18,\n",
       " 18.5,\n",
       " 19,\n",
       " 19.5,\n",
       " 20,\n",
       " 20.5,\n",
       " 21,\n",
       " 21.5,\n",
       " 22,\n",
       " 22.5,\n",
       " 23,\n",
       " 23.5,\n",
       " 24,\n",
       " 24.5,\n",
       " 25,\n",
       " 25.5,\n",
       " 26,\n",
       " 26.5,\n",
       " 27,\n",
       " 27.5,\n",
       " 28,\n",
       " 28.5,\n",
       " 29,\n",
       " 29.5]"
      ]
     },
     "execution_count": 6,
     "metadata": {},
     "output_type": "execute_result"
    }
   ],
   "source": [
    "t_list1"
   ]
  },
  {
   "cell_type": "code",
   "execution_count": 7,
   "id": "ed4c35e5-5587-4e84-921c-e98af42b9fac",
   "metadata": {},
   "outputs": [
    {
     "data": {
      "text/plain": [
       "[0,\n",
       " 0.5,\n",
       " 1,\n",
       " 1.5,\n",
       " 2,\n",
       " 2.5,\n",
       " 3,\n",
       " 3.5,\n",
       " 4,\n",
       " 4.5,\n",
       " 5,\n",
       " 5.5,\n",
       " 6,\n",
       " 6.5,\n",
       " 7,\n",
       " 7.5,\n",
       " 8,\n",
       " 8.5,\n",
       " 9,\n",
       " 9.5,\n",
       " 10,\n",
       " 10.5,\n",
       " 11,\n",
       " 11.5,\n",
       " 12,\n",
       " 12.5,\n",
       " 13,\n",
       " 13.5,\n",
       " 14,\n",
       " 14.5,\n",
       " 15,\n",
       " 15.5,\n",
       " 16,\n",
       " 16.5,\n",
       " 17,\n",
       " 17.5,\n",
       " 18,\n",
       " 18.5,\n",
       " 19,\n",
       " 19.5,\n",
       " 20,\n",
       " 20.5,\n",
       " 21,\n",
       " 21.5,\n",
       " 22,\n",
       " 22.5,\n",
       " 23,\n",
       " 23.5,\n",
       " 24,\n",
       " 24.5,\n",
       " 25,\n",
       " 25.5,\n",
       " 26,\n",
       " 26.5,\n",
       " 27,\n",
       " 27.5,\n",
       " 28,\n",
       " 28.5,\n",
       " 29,\n",
       " 29.5]"
      ]
     },
     "execution_count": 7,
     "metadata": {},
     "output_type": "execute_result"
    }
   ],
   "source": [
    "t_list2"
   ]
  },
  {
   "cell_type": "code",
   "execution_count": 9,
   "id": "ca3d1877-4189-469a-9e25-6855e2411566",
   "metadata": {},
   "outputs": [],
   "source": [
    "# first set of data to estimate KM\n",
    "# ts1 = np.arange(min(t_list1), max(t_list1), 0.01)\n",
    "# est1 = KM(t_list1, d_list1, n_list1)\n",
    "# S1 = list(map(est1, ts1))\n",
    "# plt.plot(ts1, S1, label = \"old estimator\")\n",
    "\n",
    "# second set of data to update KM\n",
    "# ts2 = np.arange(np.min(t_list2), np.max(t_list2), 0.1)\n",
    "# est2 = KM(t_list2, d_list2, n_list2)\n",
    "# S2 = list(map(est2, ts2))\n",
    "# plt.plot(ts2, S2, label = \"updated estimator\")"
   ]
  },
  {
   "cell_type": "code",
   "execution_count": 10,
   "id": "2e6ba127-28ff-4cba-b855-456e2f2ea50e",
   "metadata": {},
   "outputs": [
    {
     "data": {
      "image/png": "[encoded data removed]",
      "text/plain": [
       "<Figure size 432x288 with 1 Axes>"
      ]
     },
     "metadata": {
      "needs_background": "light"
     },
     "output_type": "display_data"
    }
   ],
   "source": [
    "t_grid1 = np.arange(np.min(t_list1), np.max(t_list1), 0.01)\n",
    "f1 = KM(t_list1,d_list1, n_list1)\n",
    "S_hat1 = list(map(f1, t_grid1))\n",
    "plt.plot(t_grid1, S_hat1, label = \"initial estimator\")\n",
    "\n",
    "t_grid2 = np.arange(np.min(t_list2), np.max(t_list2), 0.01)\n",
    "f2 = KM(t_list2,d_list2, n_list2)\n",
    "S_hat2 = list(map(f2, t_grid2))\n",
    "plt.plot(t_grid2, S_hat2, label = \"updated estimator\")\n",
    "plt.legend(loc=(1.04, 0.5))\n",
    "plt.show()"
   ]
  },
  {
   "cell_type": "code",
   "execution_count": 7,
   "id": "4b999e33-f39d-45a7-94c3-3af59a700202",
   "metadata": {},
   "outputs": [
    {
     "data": {
      "text/plain": [
       "[<matplotlib.lines.Line2D at 0x7f0f8436ce80>]"
      ]
     },
     "execution_count": 7,
     "metadata": {},
     "output_type": "execute_result"
    },
    {
     "data": {
      "image/png": "[encoded data removed]",
      "text/plain": [
       "<Figure size 432x288 with 1 Axes>"
      ]
     },
     "metadata": {
      "needs_background": "light"
     },
     "output_type": "display_data"
    }
   ],
   "source": [
    "ts1 = np.arange(np.min(t_list1), np.max(t_list1), 0.1)\n",
    "est1 = KM(t_list1, d_list1, n_list1)\n",
    "S1 = list(map(est1, ts1))\n",
    "plt.plot(ts1, S1, label = \"old estimator\")"
   ]
  },
  {
   "cell_type": "code",
   "execution_count": null,
   "id": "57de8d42-260b-48cf-9473-950e0f7fd8c2",
   "metadata": {},
   "outputs": [],
   "source": []
  }
 ],
 "metadata": {
  "kernelspec": {
   "display_name": "Python 3 (ipykernel)",
   "language": "python",
   "name": "python3"
  },
  "language_info": {
   "codemirror_mode": {
    "name": "ipython",
    "version": 3
   },
   "file_extension": ".py",
   "mimetype": "text/x-python",
   "name": "python",
   "nbconvert_exporter": "python",
   "pygments_lexer": "ipython3",
   "version": "3.10.2"
  }
 },
 "nbformat": 4,
 "nbformat_minor": 5
}
