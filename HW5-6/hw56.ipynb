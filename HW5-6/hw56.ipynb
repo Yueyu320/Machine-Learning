{
 "cells": [
  {
   "cell_type": "code",
   "execution_count": 1,
   "id": "887803b7-ed2a-4858-81ca-bb9d9f5cbce4",
   "metadata": {},
   "outputs": [],
   "source": [
    "import numpy as np\n",
    "import random\n",
    "import matplotlib.pyplot as plt\n",
    "import pandas as pd"
   ]
  },
  {
   "cell_type": "markdown",
   "id": "269d7686-c3d2-4a0b-b349-5a44a4ed4ca9",
   "metadata": {},
   "source": [
    "### Problem 1. Calculations\n",
    "\n",
    "$$\n",
    "\\begin{align}\n",
    "\\mathbb{E}||k^{-1/2} \\Omega \\pmb{x}||^2 &= \\frac{1}{k} \\mathbb{E} (\\pmb{x}^T \\Omega^T \\Omega \\pmb{x})\n",
    "\\\\ &= tr \\{ \\frac{1}{k} \\mathbb{E} (\\pmb{x}^T \\Omega^T \\Omega \\pmb{x}) \\}\n",
    "\\\\ &= \\frac{1}{k} \\mathbb{E} ( tr \\{\\pmb{x}^T \\Omega^T \\Omega \\pmb{x} \\} )\n",
    "\\\\ &= \\frac{1}{k} \\mathbb{E} ({tr \\{ (\\Omega^T \\Omega ) \\pmb{x} \\pmb{x}^T }\\})\n",
    "\\\\ &= \\frac{1}{k} tr ({\\mathbb{E} (\\Omega^T \\Omega ) \\pmb{x} \\pmb{x}^T })\n",
    "\\\\ & \\text { (if Q has mean 0 and variance 1) }\n",
    "\\\\ &= tr(\\pmb{x} \\pmb{x}^T)\n",
    "\\\\ &= ||x||^2\n",
    "\\end{align}\n",
    "$$"
   ]
  },
  {
   "cell_type": "markdown",
   "id": "90e8eddd-01ae-4c80-9e6e-ceb1c49170f8",
   "metadata": {},
   "source": [
    "### Problem 2. Streamy McStreamface\n",
    "\n",
    "$$\\hat{\\pmb{\\beta}}_n^\\Omega = \\Omega^T \\mathop{\\arg\\min}_{\\pmb{\\beta} \\in \\mathbb{R}^k} \\mathbb{P}_n \\{Y - (\\Omega \\pmb{X})^T \\pmb{\\beta} \\}^2$$\n",
    "\n",
    "Differentiate $\\mathbb{P}_n \\{Y - (\\Omega \\pmb{X})^T \\pmb{\\beta} \\}^2$ according to $\\beta$:\n",
    "\n",
    "\\begin{equation}\n",
    "\\begin{split}\n",
    "\\mathbb{P}_n \\{[Y - (\\Omega \\pmb{X})^T \\pmb{\\beta}]  (\\Omega \\pmb{X}) \\}= 0 \\\\\n",
    "\\end{split}\n",
    "\\end{equation}\n",
    "\n",
    "Solve for $\\beta$, we have: \n",
    "\n",
    "$$\\hat{\\pmb{\\beta}}_n = \\mathbb{P}_n \\{ (\\Omega \\pmb{X})(\\Omega \\pmb{X})^T \\}^{-1} \\mathbb{P}_n \\{(\\Omega \\pmb{X}) Y\\}$$\n",
    "\n",
    "$$\n",
    "\\begin{align}\n",
    "\\hat{\\pmb{\\beta}}_n^\\Omega &= \\Omega^T \\hat{\\pmb{\\beta}}_n\n",
    "\\\\ &= \\Omega^T \\mathbb{P}_n \\{ (\\Omega \\pmb{X})(\\Omega \\pmb{X})^T \\}^{-1} \\mathbb{P}_n \\{(\\Omega \\pmb{X}) Y\\}\n",
    "\\\\ &= \\Omega^T \\mathbb{P}_n \\{ (\\Omega \\pmb{X})(\\Omega \\pmb{X})^T \\}^{-1} \\Omega \\mathbb{P}_n \\{\\pmb{X} Y\\}\n",
    "\\\\ &= \\Omega^T [\\Omega \\mathbb{P}_n \\{\\pmb{X}\\pmb{X}^T \\} \\Omega^T]^{-1} \\Omega \\mathbb{P}_n \\{\\pmb{X} Y\\}\n",
    "\\end{align}\n",
    "$$"
   ]
  },
  {
   "cell_type": "markdown",
   "id": "2d9881d0-bcaf-4f28-a670-ee6dfba3574e",
   "metadata": {},
   "source": [
    "So, we could design an algorithm:\n",
    "\n",
    "1. Initialize $p \\times p$ matrix $M$ and a $p \\times 1$ matrix $N$ s.t. $M = \\sum_i \\pmb{X}_i\\pmb{X}_i^T \\in \\mathbb{R}^{p \\times p}$ and $N = \\sum_i \\pmb{X}_iY_i \\in \\mathbb{R}^{p \\times 1}$. This will only be calculated once since it could store the data with one single pass through with storage requirement $\\mathcal{O}(p^2)$. Then $\\mathbb{P}_n \\{\\pmb{X}\\pmb{X}^T \\} = \\frac{M}{n}$  and $\\mathbb{P}_n \\{\\pmb{X} Y\\} = \\frac{N}{n}$\n",
    "\n",
    "2. Generate $\\{\\Omega^{(1)}, \\cdots, \\Omega^{(B)}\\}$ from $Q$.\n",
    "\n",
    "3. For $b \\in \\{1, \\cdots, B\\}$, calculate $\\hat{\\pmb{\\beta}}_n^{\\Omega^{(b)}}$ as below:\n",
    "\n",
    "\\begin{equation}\n",
    "\\begin{split}\n",
    "\\hat{\\pmb{\\beta}}_n^{\\Omega^{(b)}} &= {\\Omega^{(b)}}^T [\\Omega^{(b)} \\mathbb{P}_n \\{\\pmb{X}\\pmb{X}^T \\} {\\Omega^{(b)}}^T]^{-1} \\Omega^{(b)} \\mathbb{P}_n \\{\\pmb{X} Y\\} \\\\\n",
    "&= {\\Omega^{(b)}}^T \\left[ \\Omega^{(b)} \\frac{M}{n} {\\Omega^{(b)}}^T \\right]^{-1} \\Omega^{(b)} \\frac{N}{n} \\\\\n",
    "&= {\\Omega^{(b)}}^T \\left[ \\Omega^{(b)} M {\\Omega^{(b)}}^T \\right]^{-1} \\Omega^{(b)} N\n",
    "\\end{split}\n",
    "\\end{equation}\n",
    "\n",
    "4. Compute the averaged projected least squares estimator\n",
    "\n",
    "$$\\hat{\\pmb{\\beta}}_n^{ave} = \\frac{1}{B} \\sum_{b=1}^{B} \\hat{\\pmb{\\beta}}_n^{\\Omega^{(b)}}$$"
   ]
  },
  {
   "cell_type": "markdown",
   "id": "f3934f5f-2e09-4ce2-b47d-a638ed493750",
   "metadata": {},
   "source": [
    "### Problem 3. Randy\n",
    "\n",
    "$\\hat{\\pmb{\\beta}}_n^{\\Omega^{(b)}} = {\\Omega^{(b)}}^T \\left[ \\Omega^{(b)} M {\\Omega^{(b)}}^T \\right]^{-1} \\Omega^{(b)} N$ from Problem 2 where $M = \\sum_i \\pmb{X}_i\\pmb{X}_i^T \\in \\mathbb{R}^{p \\times p}$ and $N = \\sum_i \\pmb{X}_iY_i \\in \\mathbb{R}^{p \\times 1}$. \n",
    "\n",
    "We first initialize $M$, $N$ and generate $\\{\\Omega^{(b)}\\}_{b=1}^B$ with old data, then as new data comes in, we update $M$ and $N$ accordingly and take the average of $B$ estimators."
   ]
  },
  {
   "cell_type": "code",
   "execution_count": 16,
   "id": "febf01b5-6286-47c7-8fce-46b7401d914a",
   "metadata": {},
   "outputs": [],
   "source": [
    "random.seed(42)\n",
    "# Generate true data\n",
    "n = 100\n",
    "p = 30\n",
    "k = 5\n",
    "X_full = np.random.uniform(low = 1, high = 5, size = n * p).reshape(n, p)\n",
    "# Omega values are either -1 or 1\n",
    "Omega = 2 * np.random.binomial(n = 1, p = 0.5, size = k * p).reshape(k, p) - 1\n",
    "beta_true = np.random.uniform(low = 1, high = 4, size = k).reshape(k, 1)\n",
    "y_full = X_full @ Omega.T @ beta_true + np.random.normal(size = n).reshape(n, 1)\n",
    "\n",
    "# Create initial data (first n0 observations of X_full); new data from (n0 + 1) to n will come in streamingly\n",
    "n0 = 10\n",
    "X = X_full[:n0, :]\n",
    "y = y_full[:n0, :]\n",
    "new_X_data = X_full[n0:, :]\n",
    "new_y_data = y_full[n0:, :]"
   ]
  },
  {
   "cell_type": "code",
   "execution_count": 17,
   "id": "209463c4-4d86-43f1-a454-0ea970a1e470",
   "metadata": {},
   "outputs": [],
   "source": [
    "def streaming(X, y, new_X, new_y, Omegas):\n",
    "    # Update beta_hat_avg with new data point\n",
    "    update_X = np.append(X, [new_X], axis=0)\n",
    "    update_y = np.append(y, [new_y], axis=0)\n",
    "    M = update_X.T @ update_X\n",
    "    N = update_X.T @ update_y\n",
    "    \n",
    "    # Update beta average using new data\n",
    "    new_beta_ave = (\n",
    "        np.mean(\n",
    "            np.array(\n",
    "                [Omega.T @ np.linalg.solve(Omega @ M @ Omega.T, Omega @ N) for Omega in Omegas]\n",
    "            )\n",
    "            .reshape(len(Omegas), p), \n",
    "            axis = 0))\n",
    "    \n",
    "    return update_X, update_y, new_beta_ave"
   ]
  },
  {
   "cell_type": "code",
   "execution_count": 18,
   "id": "26f08873-5847-4a99-96db-641d40f9b47a",
   "metadata": {},
   "outputs": [],
   "source": [
    "# generate the dimension k for B projection matrices\n",
    "B = 100\n",
    "ks = [random.randint(5, 10) for i in range(B)] # draw k from {5, 6, 7, 8, 9, 10}\n",
    "\n",
    "Omegas = [2 * np.random.binomial(n = 1, p = 0.5, size = k * p).reshape(k, p) - 1 for k in ks]\n",
    "M = X.T @ X\n",
    "N = X.T @ y\n",
    "\n",
    "# Intialize beta_avg using old data\n",
    "beta_ave = (np.mean(\n",
    "    np.array(\n",
    "        [Omega.T @ np.linalg.solve(Omega @ M @ Omega.T, Omega @ N) \n",
    "         for Omega in Omegas]).reshape(B, p), \n",
    "    axis = 0))\n",
    "\n",
    "update_X = X.copy()\n",
    "update_y = y.copy()\n",
    "new_beta_aves = []\n",
    "# Store intial beta_ave\n",
    "new_beta_aves.append(beta_ave)\n",
    "for i in range(new_X_data.shape[0]):\n",
    "    update_X, update_y, new_beta_ave = streaming(update_X, update_y, new_X_data[i,:], new_y_data[i], Omegas)\n",
    "    new_beta_aves.append(new_beta_ave)"
   ]
  },
  {
   "cell_type": "code",
   "execution_count": null,
   "id": "461e03ee-2477-4930-b75f-4959212df605",
   "metadata": {},
   "outputs": [],
   "source": [
    "new_beta_aves = np.array(new_beta_aves)\n",
    "fig, ax = plt.subplots(figsize = (12, 9))\n",
    "plt.title('Streaming estimator of beta')\n",
    "for i in range(p):\n",
    "    plt.plot(new_beta_aves[:, i])\n",
    "plt.xlabel('time')\n",
    "plt.ylabel('beta');"
   ]
  },
  {
   "cell_type": "markdown",
   "id": "623860a1-d934-4cc3-a805-2301a638eea8",
   "metadata": {},
   "source": [
    "### Problem 4: k-dim embedding"
   ]
  },
  {
   "cell_type": "markdown",
   "id": "7d17fa4d-2e16-4d54-a29d-2b6819f3cc19",
   "metadata": {},
   "source": [
    "The objective $f_n$ for random normal projects is weight larger than it for "
   ]
  },
  {
   "cell_type": "code",
   "execution_count": 10,
   "id": "44ae1ab6-e75f-4d8f-9e52-dde0c70a5b72",
   "metadata": {},
   "outputs": [],
   "source": [
    "random.seed(42)\n",
    "# Generate true data\n",
    "n = 100\n",
    "p = 30\n",
    "k = 5\n",
    "X_full = np.random.uniform(low = 0, high = 1, size = n * p).reshape(n, p)\n",
    "beta_true = np.random.normal(0, 1, p).reshape(p, 1)\n",
    "y_full = X_full @ beta_true + np.random.normal(size = n).reshape(n, 1)"
   ]
  },
  {
   "cell_type": "code",
   "execution_count": null,
   "id": "ffd307e4-68e4-4d3e-a01f-38f321ae4edf",
   "metadata": {},
   "outputs": [],
   "source": [
    "def f_n(X, Omega):\n",
    "    res = []\n",
    "    p = X.shape[1]\n",
    "    for i in range(X.shape[0]):\n",
    "        for j in range(X.shape[0]):\n",
    "            xi = X[i,:].reshape(p,1)\n",
    "            xj = X[j,:].reshape(p,1)\n",
    "            res.append((xi.T @ xj - (Omega @ xi).T @ (Omega @ xj))**2)\n",
    "    f = np.sum(res)\n",
    "    return f"
   ]
  },
  {
   "cell_type": "code",
   "execution_count": null,
   "id": "776d0c1b-4f81-40fd-abb6-731b9b727952",
   "metadata": {},
   "outputs": [],
   "source": [
    "from sklearn.model_selection import train_test_split\n",
    "X_train, X_test, y_train, y_test = train_test_split(X_full, y_full, test_size = 0.2, random_state = 42)"
   ]
  },
  {
   "cell_type": "markdown",
   "id": "b397f16b-3e3c-4fcd-9387-d2d7e4fcea6b",
   "metadata": {},
   "source": [
    "### Random Normal Projection:"
   ]
  },
  {
   "cell_type": "code",
   "execution_count": 17,
   "id": "a755782d-f0fa-425a-bad4-86137b00797c",
   "metadata": {},
   "outputs": [],
   "source": [
    "Omega_norm = np.random.normal(0, 1, k*p).reshape(k, p)"
   ]
  },
  {
   "cell_type": "code",
   "execution_count": 18,
   "id": "2d4f1c99-4744-4259-adeb-2483a3a0973a",
   "metadata": {},
   "outputs": [
    {
     "data": {
      "text/plain": [
       "2085790.6440353873"
      ]
     },
     "execution_count": 18,
     "metadata": {},
     "output_type": "execute_result"
    }
   ],
   "source": [
    "f_n(X_train, Omega_norm)"
   ]
  },
  {
   "cell_type": "code",
   "execution_count": 19,
   "id": "bcd3cef8-c84b-48ec-a79c-915572f06ecd",
   "metadata": {},
   "outputs": [],
   "source": [
    "beta_norm = (Omega_norm.T @ np.linalg.inv(\n",
    "    Omega_norm @ (X_train.T@X_train) @ Omega_norm.T) @ Omega_norm @ (X_train.T@y_train))"
   ]
  },
  {
   "cell_type": "code",
   "execution_count": 20,
   "id": "9e05c429-178d-4f87-8ab1-1cee40e175c6",
   "metadata": {},
   "outputs": [],
   "source": [
    "MSE = []\n",
    "for i in range(X_test.shape[0]):\n",
    "    MSE.append((y_test[i][0] - (X_test[i,:].reshape(p,1)).T @ beta_norm)**2)"
   ]
  },
  {
   "cell_type": "code",
   "execution_count": 21,
   "id": "5142eee4-eb7e-45f2-a2c3-3e5a23cdade2",
   "metadata": {},
   "outputs": [
    {
     "data": {
      "text/plain": [
       "4.241964871521779"
      ]
     },
     "execution_count": 21,
     "metadata": {},
     "output_type": "execute_result"
    }
   ],
   "source": [
    "np.mean(MSE)"
   ]
  },
  {
   "cell_type": "markdown",
   "id": "d2d8e104-a62c-4ce4-920e-5d66610f6e15",
   "metadata": {},
   "source": [
    "### Rademacher:"
   ]
  },
  {
   "cell_type": "code",
   "execution_count": 12,
   "id": "ed32651c-50a7-4d4a-a3e8-e888f8fdae48",
   "metadata": {},
   "outputs": [],
   "source": [
    "Omegas = [2 * np.random.binomial(n = 1, p = 0.5, size = k * p).reshape(k, p) - 1 for i in range(500)]\n",
    "Omega_n = Omegas[np.argmin([f_n(X_train, Omega) for Omega in Omegas])]"
   ]
  },
  {
   "cell_type": "code",
   "execution_count": 13,
   "id": "c1284bc7-5381-4fb5-a589-4a03e6fd2876",
   "metadata": {},
   "outputs": [],
   "source": [
    "beta = (Omega_n.T @ np.linalg.inv(\n",
    "    Omega_n @ (X_train.T@X_train) @ Omega_n.T) @ Omega_n @ (X_train.T@y_train))\n",
    "\n",
    "MSE = []\n",
    "for i in range(X_test.shape[0]):\n",
    "    MSE.append((y_test[i][0] - (X_test[i,:].reshape(p,1)).T @ beta)**2)"
   ]
  },
  {
   "cell_type": "code",
   "execution_count": 16,
   "id": "c0560369-7216-4eb0-97b7-41a0fa77f43d",
   "metadata": {},
   "outputs": [
    {
     "data": {
      "text/plain": [
       "370654.337810577"
      ]
     },
     "execution_count": 16,
     "metadata": {},
     "output_type": "execute_result"
    }
   ],
   "source": [
    "f_n(X_train, Omega_n)"
   ]
  },
  {
   "cell_type": "code",
   "execution_count": 13,
   "id": "e856c0d9-8b9f-4002-8740-84e2c86a5a96",
   "metadata": {},
   "outputs": [
    {
     "data": {
      "text/plain": [
       "4.539424570524841"
      ]
     },
     "execution_count": 13,
     "metadata": {},
     "output_type": "execute_result"
    }
   ],
   "source": [
    "np.mean(MSE)"
   ]
  },
  {
   "cell_type": "code",
   "execution_count": null,
   "id": "f83df02e-6395-4592-acc0-6f0daad12125",
   "metadata": {},
   "outputs": [],
   "source": []
  }
 ],
 "metadata": {
  "kernelspec": {
   "display_name": "Python 3 (ipykernel)",
   "language": "python",
   "name": "python3"
  },
  "language_info": {
   "codemirror_mode": {
    "name": "ipython",
    "version": 3
   },
   "file_extension": ".py",
   "mimetype": "text/x-python",
   "name": "python",
   "nbconvert_exporter": "python",
   "pygments_lexer": "ipython3",
   "version": "3.10.4"
  }
 },
 "nbformat": 4,
 "nbformat_minor": 5
}
