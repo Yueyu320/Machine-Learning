{
 "cells": [
  {
   "cell_type": "code",
   "execution_count": 1,
   "id": "887803b7-ed2a-4858-81ca-bb9d9f5cbce4",
   "metadata": {},
   "outputs": [],
   "source": [
    "import numpy as np\n",
    "import random\n",
    "import matplotlib.pyplot as plt"
   ]
  },
  {
   "cell_type": "markdown",
   "id": "269d7686-c3d2-4a0b-b349-5a44a4ed4ca9",
   "metadata": {},
   "source": [
    "### Problem 1. Calculations\n",
    "\n",
    "$$\n",
    "\\begin{align}\n",
    "\\mathbb{E}||k^{-1/2} \\Omega \\pmb{x}||^2 &= \\frac{1}{k} \\mathbb{E} (\\pmb{x}^T \\Omega^T \\Omega \\pmb{x})\n",
    "\\\\ &= tr \\{ \\frac{1}{k} \\mathbb{E} (\\pmb{x}^T \\Omega^T \\Omega \\pmb{x}) \\}\n",
    "\\\\ &= \\frac{1}{k} \\mathbb{E} ( tr \\{\\pmb{x}^T \\Omega^T \\Omega \\pmb{x} \\} )\n",
    "\\\\ &= \\frac{1}{k} \\mathbb{E} ({tr \\{ (\\Omega^T \\Omega ) \\pmb{x} \\pmb{x}^T }\\})\n",
    "\\\\ &= \\frac{1}{k} tr ({\\mathbb{E} (\\Omega^T \\Omega ) \\pmb{x} \\pmb{x}^T })\n",
    "\\\\ & \\text { (if Q has mean 0 and variance 1) }\n",
    "\\\\ &= tr(\\pmb{x} \\pmb{x}^T)\n",
    "\\\\ &= ||x||^2\n",
    "\\end{align}\n",
    "$$"
   ]
  },
  {
   "cell_type": "markdown",
   "id": "90e8eddd-01ae-4c80-9e6e-ceb1c49170f8",
   "metadata": {},
   "source": [
    "### Problem 2. Streamy McStreamface\n",
    "\n",
    "$$\\hat{\\pmb{\\beta}}_n^\\Omega = \\Omega^T \\mathop{\\arg\\min}_{\\pmb{\\beta} \\in \\mathbb{R}^k} \\mathbb{P}_n \\{Y - (\\Omega \\pmb{X})^T \\pmb{\\beta} \\}^2$$\n",
    "\n",
    "Differentiate $\\mathbb{P}_n \\{Y - (\\Omega \\pmb{X})^T \\pmb{\\beta} \\}^2$ according to $\\beta$:\n",
    "\n",
    "\\begin{equation}\n",
    "\\begin{split}\n",
    "\\mathbb{P}_n \\{[Y - (\\Omega \\pmb{X})^T \\pmb{\\beta}]  (\\Omega \\pmb{X}) \\}= 0 \\\\\n",
    "\\end{split}\n",
    "\\end{equation}\n",
    "\n",
    "Solve for $\\beta$, we have: \n",
    "\n",
    "$$\\hat{\\pmb{\\beta}}_n = \\mathbb{P}_n \\{ (\\Omega \\pmb{X})(\\Omega \\pmb{X})^T \\}^{-1} \\mathbb{P}_n \\{(\\Omega \\pmb{X}) Y\\}$$\n",
    "\n",
    "$$\n",
    "\\begin{align}\n",
    "\\hat{\\pmb{\\beta}}_n^\\Omega &= \\Omega^T \\hat{\\pmb{\\beta}}_n\n",
    "\\\\ &= \\Omega^T \\mathbb{P}_n \\{ (\\Omega \\pmb{X})(\\Omega \\pmb{X})^T \\}^{-1} \\mathbb{P}_n \\{(\\Omega \\pmb{X}) Y\\}\n",
    "\\\\ &= \\Omega^T \\mathbb{P}_n \\{ (\\Omega \\pmb{X})(\\Omega \\pmb{X})^T \\}^{-1} \\Omega \\mathbb{P}_n \\{\\pmb{X} Y\\}\n",
    "\\\\ &= \\Omega^T [\\Omega \\mathbb{P}_n \\{\\pmb{X}\\pmb{X}^T \\} \\Omega^T]^{-1} \\Omega \\mathbb{P}_n \\{\\pmb{X} Y\\}\n",
    "\\end{align}\n",
    "$$"
   ]
  },
  {
   "cell_type": "markdown",
   "id": "2d9881d0-bcaf-4f28-a670-ee6dfba3574e",
   "metadata": {},
   "source": [
    "So, we could design an algorithm:\n",
    "\n",
    "1. Initialize $p \\times p$ matrix $A$ and a $p \\times 1$ matrix $B$ s.t. $A = \\sum_i \\pmb{X}_i\\pmb{X}_i^T \\in \\mathbb{R}^{p \\times p}$ and $B = \\sum_i \\pmb{X}_iY_i \\in \\mathbb{R}^{p \\times 1}$. This will only be calculated once since it could store the data with one single pass through with storage requirement $\\mathcal{O}(p^2)$. \n",
    "\n",
    "\n",
    "2. Pass the observed data through one at a time, we have $\\mathbb{P}_n \\{\\pmb{X}\\pmb{X}^T \\} = \\frac{M}{n}$  and $\\mathbb{P}_n \\{\\pmb{X} Y\\} = \\frac{N}{n}$\n",
    "\n",
    "3. Then we simulate $\\{\\Omega^{(1)}, \\cdots, \\Omega^{(B)}\\}$ from $Q$\n",
    "\n",
    "4. For each $\\Omega^{(b)}, \\ b \\in \\{1, \\cdots, B\\}$, calculate the estimator $\\widehat{\\pmb{\\beta}_n^{\\Omega^{(b)}}}$ using the form we derived above\n",
    "\n",
    "$$\\widehat{\\pmb{\\beta}_n^{\\Omega^{(b)}}} = {\\Omega^{(b)}}^T [\\Omega^{(b)} \\mathbb{P}_n \\{\\pmb{X}\\pmb{X}^T \\} {\\Omega^{(b)}}^T]^{-1} \\Omega^{(b)} \\mathbb{P}_n \\{\\pmb{X} Y\\} = {\\Omega^{(b)}}^T \\left[ \\Omega^{(b)} \\frac{M}{n} {\\Omega^{(b)}}^T \\right]^{-1} \\Omega^{(b)} \\frac{N}{n}$$\n",
    "\n",
    "5. Obtain the averaged projected least square estimator:\n",
    "\n",
    "$$\\widehat{\\pmb{\\beta}_n^{ave}} = \\frac{1}{B} \\sum_{b=1}^{B} \\widehat{\\pmb{\\beta}_n^{\\Omega^{(b)}}}$$"
   ]
  },
  {
   "cell_type": "markdown",
   "id": "045eb021-edfc-4f7f-b500-4945a53e36a6",
   "metadata": {},
   "source": [
    "\\begin{equation}\n",
    "\\begin{split}\n",
    "\\mathbb{P}_n \\{[Y - (\\Omega \\pmb{X})^T \\pmb{\\beta}]  (\\Omega \\pmb{X}) \\}= 0 \\\\\n",
    "\\end{split}\n",
    "\\end{equation}"
   ]
  },
  {
   "cell_type": "code",
   "execution_count": null,
   "id": "b4e260fc-8caa-41e6-b34a-cbe4a21b7fe7",
   "metadata": {},
   "outputs": [],
   "source": []
  }
 ],
 "metadata": {
  "kernelspec": {
   "display_name": "Python 3 (ipykernel)",
   "language": "python",
   "name": "python3"
  },
  "language_info": {
   "codemirror_mode": {
    "name": "ipython",
    "version": 3
   },
   "file_extension": ".py",
   "mimetype": "text/x-python",
   "name": "python",
   "nbconvert_exporter": "python",
   "pygments_lexer": "ipython3",
   "version": "3.10.3"
  }
 },
 "nbformat": 4,
 "nbformat_minor": 5
}
