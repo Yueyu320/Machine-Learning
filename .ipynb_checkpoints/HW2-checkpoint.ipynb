{
 "cells": [
  {
   "cell_type": "code",
   "execution_count": 1,
   "id": "eabf09c7-1c60-4238-b2d6-80f3ccb0f229",
   "metadata": {},
   "outputs": [],
   "source": [
    "import numpy as np\n",
    "import random"
   ]
  },
  {
   "cell_type": "code",
   "execution_count": 2,
   "id": "72c2b92f-2c7c-4768-bab8-fea3bbc77ef3",
   "metadata": {},
   "outputs": [],
   "source": [
    "#Sparse signal \n",
    "n = 100\n",
    "p = [10, 25, 50]\n",
    "rho = [0, 0.25, 0.5]\n",
    "beta_1 = np.array([(2/np.sqrt(n)) if j <= np.sqrt(p[0]) else 0 for j in range(1, p[0] + 1)]).reshape(p[0], 1)"
   ]
  },
  {
   "cell_type": "code",
   "execution_count": 5,
   "id": "ac578c07-c2cd-47cd-ac24-e28ef0fd27e3",
   "metadata": {},
   "outputs": [],
   "source": [
    "def generate_data(n, p, rho):\n",
    "    beta = np.array([[2/np.sqrt(n) * (j < np.sqrt(p)) for j in range(p)]]).T\n",
    "    R2 = 0.8\n",
    "    sigma_rho = np.reshape([rho**(np.abs(i-j)) for i in range(p) for j in range(p)], (-1, p))\n",
    "    sigma2 = ((1-R2)/R2 * (beta.T) @ sigma_rho @ beta)[0][0]\n",
    "    sigma = np.sqrt(sigma2)\n",
    "    epsilon = np.random.normal(0, sigma, n).reshape(n,1)\n",
    "    X = np.random.multivariate_normal(np.zeros(p), sigma_rho, n)\n",
    "    Y = X @ beta + epsilon\n",
    "    return X, Y"
   ]
  },
  {
   "cell_type": "code",
   "execution_count": 9,
   "id": "67f1aa72-7eeb-4a95-9576-27525c92619f",
   "metadata": {},
   "outputs": [
    {
     "data": {
      "text/plain": [
       "((100, 10), (100, 1))"
      ]
     },
     "execution_count": 9,
     "metadata": {},
     "output_type": "execute_result"
    }
   ],
   "source": [
    "X, Y = generate_data(100, 10, 0)\n",
    "X.shape, Y.shape"
   ]
  }
 ],
 "metadata": {
  "kernelspec": {
   "display_name": "Python 3 (ipykernel)",
   "language": "python",
   "name": "python3"
  },
  "language_info": {
   "codemirror_mode": {
    "name": "ipython",
    "version": 3
   },
   "file_extension": ".py",
   "mimetype": "text/x-python",
   "name": "python",
   "nbconvert_exporter": "python",
   "pygments_lexer": "ipython3",
   "version": "3.9.5"
  }
 },
 "nbformat": 4,
 "nbformat_minor": 5
}
