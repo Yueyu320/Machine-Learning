{
  "nbformat": 4,
  "nbformat_minor": 0,
  "metadata": {
    "colab": {
      "name": "adaridge.ipynb",
      "provenance": []
    },
    "kernelspec": {
      "name": "ir",
      "display_name": "R"
    },
    "language_info": {
      "name": "R"
    }
  },
  "cells": [
    {
      "cell_type": "code",
      "source": [
        "library(devtools)\n",
        "install_github(\"gabrielrvsc/HDeconometrics\")\n",
        "library(HDeconometrics)"
      ],
      "metadata": {
        "colab": {
          "base_uri": "https://localhost:8080/"
        },
        "id": "ojjfzMzg95cu",
        "outputId": "da645c1d-793a-4b83-8419-09c6acea8d53"
      },
      "execution_count": 109,
      "outputs": [
        {
          "output_type": "stream",
          "name": "stderr",
          "text": [
            "Skipping install of 'HDeconometrics' from a github remote, the SHA1 (38afe6ce) has not changed since last install.\n",
            "  Use `force = TRUE` to force installation\n",
            "\n"
          ]
        }
      ]
    },
    {
      "cell_type": "code",
      "source": [
        "library(glmnet)\n",
        "options(warn=-1)\n",
        "install.packages(\"mvtnorm\")\n",
        "library(mvtnorm)"
      ],
      "metadata": {
        "colab": {
          "base_uri": "https://localhost:8080/"
        },
        "id": "YxQa8idoX8Uc",
        "outputId": "07c81edc-2ad1-4ede-ebba-5269ff8614cf"
      },
      "execution_count": 133,
      "outputs": [
        {
          "output_type": "stream",
          "name": "stderr",
          "text": [
            "Installing package into ‘/usr/local/lib/R/site-library’\n",
            "(as ‘lib’ is unspecified)\n",
            "\n"
          ]
        }
      ]
    },
    {
      "cell_type": "code",
      "source": [
        "generate_data = function(n, p, rho, signal) {\n",
        "  SIGMA = c()\n",
        "  for (i in 1:p){\n",
        "    for (j in 1:p){\n",
        "      SIGMA = c(SIGMA, rho^abs(i-j))\n",
        "    }\n",
        "  }\n",
        "  SIGMA = matrix(SIGMA, nrow = p)\n",
        "  X = rmvnorm(n, mean = rep(0, p), sigma = SIGMA)\n",
        "  J = 1:p\n",
        "  if (signal == \"sparse\"){\n",
        "    beta = 2 / sqrt(n) * as.numeric(J <= sqrt(p))\n",
        "  }\n",
        "  if (signal == \"dense\"){\n",
        "    beta = 5 / (J * sqrt(n))\n",
        "  }\n",
        "  R2 = 0.8\n",
        "  sigma2 = ((1-R2)/R2 * t(beta) %*% SIGMA %*% beta)\n",
        "  epsilon = rnorm(n, 0, sqrt(sigma2))\n",
        "  y = X %*% beta + epsilon\n",
        "  return(cbind(data.frame(y=y), data.frame(X)))\n",
        "}"
      ],
      "metadata": {
        "id": "Ouq_tZQ2kQQ5"
      },
      "execution_count": 136,
      "outputs": []
    },
    {
      "cell_type": "code",
      "source": [
        "n = 100\n",
        "ps = c(10, 25, 50)\n",
        "rhos = c(0, 0.25, 0.5)\n",
        "lambdas <- 10^seq(-1, -3, by = -.1)"
      ],
      "metadata": {
        "id": "w6b4dM5nAZo1"
      },
      "execution_count": 119,
      "outputs": []
    },
    {
      "cell_type": "code",
      "source": [
        "aic_bic = function(trainX, trainY, testX, testY, cc){\n",
        "  ridge = ic.glmnet(trainX, trainY, crit = cc, alpha=0)\n",
        "  first.step.coef = coef(ridge)[-1]\n",
        "  penalty.factor = abs(first.step.coef+1/sqrt(nrow(x)))^(-1)\n",
        "  adaridge = ic.glmnet(trainX, trainY, crit = \"aic\", penalty.factor=penalty.factor)\n",
        "  pred = predict(adaridge,newdata=testX)\n",
        "  MSE = mean((testY-pred)^2)\n",
        "  return(MSE)          \n",
        "}"
      ],
      "metadata": {
        "id": "ndQtwnYIfzi-"
      },
      "execution_count": 120,
      "outputs": []
    },
    {
      "cell_type": "code",
      "source": [
        "loocv = function(trainX, trainY, testX, testY){\n",
        "  cv_fit = cv.glmnet(trainX, as.vector(trainY), nfolds = 100, alpha = 0, lambda = lambdas)\n",
        "  opt_lambda <- cv_fit$lambda.min\n",
        "  fit <- cv_fit$glmnet.fit\n",
        "  pred <- predict(fit, s = opt_lambda, newx = testX)\n",
        "  MSE = mean((testY-pred)^2)\n",
        "  return(MSE)\n",
        "}"
      ],
      "metadata": {
        "id": "KTDXkzQ6gVub"
      },
      "execution_count": 114,
      "outputs": []
    },
    {
      "cell_type": "code",
      "source": [
        "ridge.res.df = data.frame(type = \"\", p = \"\", rho = \"\", criterion = \"\", MSE = \"\")"
      ],
      "metadata": {
        "id": "il9uQgrPqie4"
      },
      "execution_count": null,
      "outputs": []
    },
    {
      "cell_type": "code",
      "execution_count": null,
      "metadata": {
        "id": "NgTMwwcc7aGx"
      },
      "outputs": [],
      "source": [
        "for (tt in list(\"sparse\", \"dense\")) {\n",
        "  for (pp in ps){\n",
        "    for (rr in rhos){\n",
        "      aic.res.df = data.frame(type = \"\", p = \"\", rho = \"\", MSE = \"\")\n",
        "      bic.res.df = data.frame(type = \"\", p = \"\", rho = \"\", MSE = \"\")\n",
        "      loocv.res.df = data.frame(type = \"\", p = \"\", rho = \"\", MSE = \"\")\n",
        "      \n",
        "      for (i in 1:1000) {\n",
        "        data = generate_data(120, pp, rr, tt)\n",
        "        x = data[, -1]\n",
        "        y = data[, 1]\n",
        "        trainX = x[1:100, ]\n",
        "        trainX = scale(trainX, center = TRUE, scale = TRUE)\n",
        "        testX = x[101:120, ]\n",
        "        testX = scale(testX, center = TRUE, scale = TRUE)\n",
        "\n",
        "        y = read.csv(file = txtY, row.names=1)\n",
        "        trainY = y[1:100, ]\n",
        "        testY = y[101:120, ]\n",
        "        trainY = scale(trainY, center = TRUE, scale = TRUE)\n",
        "        testY = scale(testY, center = TRUE, scale = TRUE)\n",
        "\n",
        "        MSE1 = aic_bic(trainX, trainY, testX, testY, \"aic\")\n",
        "        aic.res.df[nrow(ridge.res.df)+1, ] <- c(tt, pp, rr, MSE1)\n",
        "        \n",
        "        MSE2 = aic_bic(trainX, trainY, testX, testY, \"bic\")\n",
        "        bic.res.df[nrow(ridge.res.df)+1, ] <- c(tt, pp, rr, MSE2)\n",
        "        \n",
        "        MSE3 = loocv(trainX, trainY, testX, testY)\n",
        "        loocv.res.df[nrow(ridge.res.df)+1, ] <- c(tt, pp, rr, MSE2)\n",
        "      }   \n",
        "\n",
        "      ridge.res.df[nrow(ridge.res.df)+1, ] <- c(tt, pp, rr, \"aic\", mean(as.numeric(aic.res.df$MSE)))\n",
        "      ridge.res.df[nrow(ridge.res.df)+1, ] <- c(tt, pp, rr, \"bic\", mean(as.numeric(bic.res.df$MSE)))\n",
        "      ridge.res.df[nrow(ridge.res.df)+1, ] <- c(tt, pp, rr, \"loocv\",mean(as.numeric(loocv.res.df$MSE)))\n",
        "    }\n",
        "  }\n",
        "}\n",
        "\n",
        "\n"
      ]
    },
    {
      "cell_type": "code",
      "source": [
        "print(ridge.res.df)"
      ],
      "metadata": {
        "colab": {
          "base_uri": "https://localhost:8080/"
        },
        "id": "u4Vz26XTepdn",
        "outputId": "9f89ea77-975c-4362-9714-41b4db13df68"
      },
      "execution_count": 117,
      "outputs": [
        {
          "output_type": "stream",
          "name": "stdout",
          "text": [
            "     type  p  rho criterion                MSE\n",
            "1                                             \n",
            "2  sparse 10    0       aic   0.32301370500182\n",
            "3  sparse 10    0       bic   0.32301370500182\n",
            "4  sparse 10    0     loocv   0.32301370500182\n",
            "5  sparse 10 0.25       aic  0.405402771474179\n",
            "6  sparse 10 0.25       bic  0.405402771474179\n",
            "7  sparse 10 0.25     loocv  0.405402771474179\n",
            "8  sparse 10  0.5       aic  0.260524716411254\n",
            "9  sparse 10  0.5       bic  0.260524716411254\n",
            "10 sparse 10  0.5     loocv  0.260524716411254\n",
            "11 sparse 25    0       aic  0.356156347540512\n",
            "12 sparse 25    0       bic  0.358046184318616\n",
            "13 sparse 25    0     loocv  0.358046184318616\n",
            "14 sparse 25 0.25       aic  0.308197842107795\n",
            "15 sparse 25 0.25       bic  0.308197842107795\n",
            "16 sparse 25 0.25     loocv  0.308197842107795\n",
            "17 sparse 25  0.5       aic  0.288351729634545\n",
            "18 sparse 25  0.5       bic  0.288351729634545\n",
            "19 sparse 25  0.5     loocv  0.288351729634545\n",
            "20 sparse 50    0       aic  0.570767637753515\n",
            "21 sparse 50    0       bic  0.172330792551364\n",
            "22 sparse 50    0     loocv  0.172330792551364\n",
            "23 sparse 50 0.25       aic  0.242623210385726\n",
            "24 sparse 50 0.25       bic  0.242623210385726\n",
            "25 sparse 50 0.25     loocv  0.242623210385726\n",
            "26 sparse 50  0.5       aic  0.284303874226021\n",
            "27 sparse 50  0.5       bic  0.310401331113982\n",
            "28 sparse 50  0.5     loocv  0.310401331113982\n",
            "29  dense 10    0       aic  0.351105830524815\n",
            "30  dense 10    0       bic  0.351105830524815\n",
            "31  dense 10    0     loocv  0.351105830524815\n",
            "32  dense 10 0.25       aic  0.216363023208698\n",
            "33  dense 10 0.25       bic  0.301909618987084\n",
            "34  dense 10 0.25     loocv  0.301909618987084\n",
            "35  dense 10  0.5       aic  0.254036597898997\n",
            "36  dense 10  0.5       bic  0.254036597898997\n",
            "37  dense 10  0.5     loocv  0.254036597898997\n",
            "38  dense 25    0       aic  0.258871055820264\n",
            "39  dense 25    0       bic  0.322104235501258\n",
            "40  dense 25    0     loocv  0.322104235501258\n",
            "41  dense 25 0.25       aic   0.23607782906377\n",
            "42  dense 25 0.25       bic   0.23607782906377\n",
            "43  dense 25 0.25     loocv   0.23607782906377\n",
            "44  dense 25  0.5       aic  0.226990792071405\n",
            "45  dense 25  0.5       bic  0.226990792071405\n",
            "46  dense 25  0.5     loocv  0.226990792071405\n",
            "47  dense 50    0       aic  0.428226175947023\n",
            "48  dense 50    0       bic  0.343977045261845\n",
            "49  dense 50    0     loocv  0.343977045261845\n",
            "50  dense 50 0.25       aic 0.0853291427603908\n",
            "51  dense 50 0.25       bic  0.170476126694721\n",
            "52  dense 50 0.25     loocv  0.170476126694721\n",
            "53  dense 50  0.5       aic  0.326321466068765\n",
            "54  dense 50  0.5       bic  0.310103610912176\n",
            "55  dense 50  0.5     loocv  0.310103610912176\n"
          ]
        }
      ]
    }
  ]
}