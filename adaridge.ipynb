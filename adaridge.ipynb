{
  "nbformat": 4,
  "nbformat_minor": 0,
  "metadata": {
    "colab": {
      "name": "adaridge.ipynb",
      "provenance": []
    },
    "kernelspec": {
      "name": "ir",
      "display_name": "R"
    },
    "language_info": {
      "name": "R"
    }
  },
  "cells": [
    {
      "cell_type": "code",
      "source": [
        "library(devtools)\n",
        "install_github(\"gabrielrvsc/HDeconometrics\")\n",
        "library(HDeconometrics)"
      ],
      "metadata": {
        "colab": {
          "base_uri": "https://localhost:8080/"
        },
        "id": "ojjfzMzg95cu",
        "outputId": "3598b0a9-127a-41c4-95dd-c3752c10a68c"
      },
      "execution_count": 144,
      "outputs": [
        {
          "output_type": "stream",
          "name": "stderr",
          "text": [
            "Skipping install of 'HDeconometrics' from a github remote, the SHA1 (38afe6ce) has not changed since last install.\n",
            "  Use `force = TRUE` to force installation\n",
            "\n"
          ]
        }
      ]
    },
    {
      "cell_type": "code",
      "source": [
        "library(glmnet)\n",
        "options(warn=-1)\n",
        "install.packages(\"mvtnorm\")\n",
        "library(mvtnorm)"
      ],
      "metadata": {
        "colab": {
          "base_uri": "https://localhost:8080/"
        },
        "id": "YxQa8idoX8Uc",
        "outputId": "3d3f935d-f902-461a-c2a8-cc8313bb8c3c"
      },
      "execution_count": 145,
      "outputs": [
        {
          "output_type": "stream",
          "name": "stderr",
          "text": [
            "Installing package into ‘/usr/local/lib/R/site-library’\n",
            "(as ‘lib’ is unspecified)\n",
            "\n"
          ]
        }
      ]
    },
    {
      "cell_type": "code",
      "source": [
        "generate_data = function(n, p, rho, signal) {\n",
        "  SIGMA = c()\n",
        "  for (i in 1:p){\n",
        "    for (j in 1:p){\n",
        "      SIGMA = c(SIGMA, rho^abs(i-j))\n",
        "    }\n",
        "  }\n",
        "  SIGMA = matrix(SIGMA, nrow = p)\n",
        "  X = rmvnorm(n, mean = rep(0, p), sigma = SIGMA)\n",
        "  J = 1:p\n",
        "  if (signal == \"sparse\"){\n",
        "    beta = 2 / sqrt(n) * as.numeric(J <= sqrt(p))\n",
        "  }\n",
        "  if (signal == \"dense\"){\n",
        "    beta = 5 / (J * sqrt(n))\n",
        "  }\n",
        "  R2 = 0.8\n",
        "  sigma2 = ((1-R2)/R2 * t(beta) %*% SIGMA %*% beta)\n",
        "  epsilon = rnorm(n, 0, sqrt(sigma2))\n",
        "  y = X %*% beta + epsilon\n",
        "  return(cbind(data.frame(y=y), data.frame(X)))\n",
        "}"
      ],
      "metadata": {
        "id": "Ouq_tZQ2kQQ5"
      },
      "execution_count": 146,
      "outputs": []
    },
    {
      "cell_type": "code",
      "source": [
        "ps = c(10, 25, 50)\n",
        "rhos = c(0, 0.25, 0.5)\n",
        "lambdas <- 10^seq(-1, -3, by = -.1)"
      ],
      "metadata": {
        "id": "w6b4dM5nAZo1"
      },
      "execution_count": 147,
      "outputs": []
    },
    {
      "cell_type": "code",
      "source": [
        "aic_bic = function(trainX, trainY, testX, testY, cc){\n",
        "  ridge = ic.glmnet(trainX, trainY, crit = cc, alpha=0)\n",
        "  first.step.coef = coef(ridge)[-1]\n",
        "  penalty.factor = abs(first.step.coef+1/sqrt(nrow(x)))^(-1)\n",
        "  adaridge = ic.glmnet(trainX, trainY, crit = \"aic\", penalty.factor=penalty.factor)\n",
        "  pred = predict(adaridge,newdata=testX)\n",
        "  MSE = mean((testY-pred)^2)\n",
        "  return(MSE)          \n",
        "}"
      ],
      "metadata": {
        "id": "ndQtwnYIfzi-"
      },
      "execution_count": 148,
      "outputs": []
    },
    {
      "cell_type": "code",
      "source": [
        "loocv = function(trainX, trainY, testX, testY){\n",
        "  cv_fit = cv.glmnet(trainX, as.vector(trainY), nfolds = 100, alpha = 0, lambda = lambdas)\n",
        "  opt_lambda <- cv_fit$lambda.min\n",
        "  fit <- cv_fit$glmnet.fit\n",
        "  pred <- predict(fit, s = opt_lambda, newx = testX)\n",
        "  MSE = mean((testY-pred)^2)\n",
        "  return(MSE)\n",
        "}"
      ],
      "metadata": {
        "id": "KTDXkzQ6gVub"
      },
      "execution_count": 149,
      "outputs": []
    },
    {
      "cell_type": "code",
      "source": [
        "ridge.res.df = data.frame(type = \"\", p = \"\", rho = \"\", criterion = \"\", MSE = \"\")"
      ],
      "metadata": {
        "id": "il9uQgrPqie4"
      },
      "execution_count": 150,
      "outputs": []
    },
    {
      "cell_type": "code",
      "execution_count": null,
      "metadata": {
        "id": "NgTMwwcc7aGx"
      },
      "outputs": [],
      "source": [
        "for (tt in list(\"sparse\", \"dense\")) {\n",
        "  for (pp in ps){\n",
        "    for (rr in rhos){\n",
        "      aic.res.df = data.frame(type = \"\", p = \"\", rho = \"\", MSE = \"\")\n",
        "      bic.res.df = data.frame(type = \"\", p = \"\", rho = \"\", MSE = \"\")\n",
        "      loocv.res.df = data.frame(type = \"\", p = \"\", rho = \"\", MSE = \"\")\n",
        "      \n",
        "      for (i in 1:1000) {\n",
        "        data = generate_data(120, pp, rr, tt)\n",
        "        x = data[, -1]\n",
        "        y = data[, 1]\n",
        "        trainX = x[1:100, ]\n",
        "        trainX = scale(trainX, center = TRUE, scale = TRUE)\n",
        "        testX = x[101:120, ]\n",
        "        testX = scale(testX, center = TRUE, scale = TRUE)\n",
        "\n",
        "        trainY = y[1:100]\n",
        "        testY = y[101:120]\n",
        "        trainY = scale(trainY, center = TRUE, scale = TRUE)\n",
        "        testY = scale(testY, center = TRUE, scale = TRUE)\n",
        "\n",
        "        MSE1 = aic_bic(trainX, trainY, testX, testY, \"aic\")\n",
        "        aic.res.df[nrow(ridge.res.df)+1, ] <- c(tt, pp, rr, MSE1)\n",
        "        \n",
        "        MSE2 = aic_bic(trainX, trainY, testX, testY, \"bic\")\n",
        "        bic.res.df[nrow(ridge.res.df)+1, ] <- c(tt, pp, rr, MSE2)\n",
        "        \n",
        "        MSE3 = loocv(trainX, trainY, testX, testY)\n",
        "        loocv.res.df[nrow(ridge.res.df)+1, ] <- c(tt, pp, rr, MSE2)\n",
        "      }   \n",
        "\n",
        "      ridge.res.df[nrow(ridge.res.df)+1, ] <- c(tt, pp, rr, \"aic\", mean(as.numeric(aic.res.df$MSE)))\n",
        "      ridge.res.df[nrow(ridge.res.df)+1, ] <- c(tt, pp, rr, \"bic\", mean(as.numeric(bic.res.df$MSE)))\n",
        "      ridge.res.df[nrow(ridge.res.df)+1, ] <- c(tt, pp, rr, \"loocv\",mean(as.numeric(loocv.res.df$MSE)))\n",
        "    }\n",
        "  }\n",
        "}\n",
        "\n",
        "\n"
      ]
    },
    {
      "cell_type": "code",
      "source": [
        "print(ridge.res.df)"
      ],
      "metadata": {
        "id": "u4Vz26XTepdn"
      },
      "execution_count": null,
      "outputs": []
    }
  ]
}